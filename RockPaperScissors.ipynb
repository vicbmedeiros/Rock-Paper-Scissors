{
 "cells": [
  {
   "cell_type": "code",
   "execution_count": 1,
   "id": "4955e6d6",
   "metadata": {},
   "outputs": [],
   "source": [
    "import random"
   ]
  },
  {
   "cell_type": "code",
   "execution_count": 2,
   "id": "09ed8784",
   "metadata": {},
   "outputs": [],
   "source": [
    "def user_choice():\n",
    "    choice = input(\"What is your choice? (Rock, Paper or Scissors)\")\n",
    "    while choice.lower() not in ['rock', 'paper', 'scissors']:\n",
    "        print (\"Invalid choice. You need to choose between rock, paper or scissors!\")\n",
    "        choice = input(\"What is your choice? (Rock, Paper or Scissors)\")\n",
    "    return choice.lower()"
   ]
  },
  {
   "cell_type": "code",
   "execution_count": 3,
   "id": "ecdc1144",
   "metadata": {},
   "outputs": [],
   "source": [
    "def computer_choice():\n",
    "    choices = ['rock', 'paper', 'scissors']\n",
    "    return random.choice(choices)"
   ]
  },
  {
   "cell_type": "code",
   "execution_count": 13,
   "id": "87b3725c",
   "metadata": {},
   "outputs": [],
   "source": [
    "def show_winner(choice_us, choice_comp):\n",
    "    if choice_us == choice_comp:\n",
    "        print('Tie')\n",
    "    elif (choice_us == 'rock' and choice_comp == 'scissors') or (choice_us == 'paper' and choice_comp == \"rock\") or (choice_us == 'scissors' and choice_comp == 'paper'):\n",
    "        print(\"User wins!\")\n",
    "    else:\n",
    "        print(\"Computer wins\")"
   ]
  },
  {
   "cell_type": "code",
   "execution_count": 14,
   "id": "d97bc9fe",
   "metadata": {},
   "outputs": [
    {
     "name": "stdout",
     "output_type": "stream",
     "text": [
      "Let's play rock, paper and scissors!!\n",
      "What is your choice? (Rock, Paper or Scissors)rock\n",
      "You chose rock\n",
      "Computer chose rock\n",
      "Tie\n",
      "Do you want to play again? (y or n)y\n",
      "What is your choice? (Rock, Paper or Scissors)rock\n",
      "User chose rock\n",
      "Computer chose rock\n",
      "Tie\n",
      "Do you want to play again? (y or n)y\n",
      "What is your choice? (Rock, Paper or Scissors)rock\n",
      "User chose rock\n",
      "Computer chose paper\n",
      "Computer wins\n",
      "Do you want to play again? (y or n)y\n",
      "What is your choice? (Rock, Paper or Scissors)rock\n",
      "User chose rock\n",
      "Computer chose scissors\n",
      "User wins!\n",
      "Do you want to play again? (y or n)n\n"
     ]
    }
   ],
   "source": [
    "print(\"Let's play rock, paper and scissors!!\")\n",
    "user = user_choice()\n",
    "print(f\"You chose {user}\")\n",
    "comp = computer_choice()\n",
    "print(f\"Computer chose {comp}\")\n",
    "show_winner(user, comp)\n",
    "\n",
    "while True:\n",
    "    y_n = input(\"Do you want to play again? (y or n)\")\n",
    "    \n",
    "    if y_n[0].lower() == \"y\":\n",
    "        user = user_choice()\n",
    "        print(f\"User chose {user}\")\n",
    "        comp = computer_choice()\n",
    "        print(f\"Computer chose {comp}\")\n",
    "        show_winner(user, comp)\n",
    "        \n",
    "    elif y_n[0].lower() != \"n\":\n",
    "        print(\"Invalid answer, please answer y or n !\")\n",
    "        \n",
    "    else:\n",
    "        break"
   ]
  },
  {
   "cell_type": "code",
   "execution_count": null,
   "id": "f5a71fa6",
   "metadata": {},
   "outputs": [],
   "source": []
  }
 ],
 "metadata": {
  "kernelspec": {
   "display_name": "Python 3 (ipykernel)",
   "language": "python",
   "name": "python3"
  },
  "language_info": {
   "codemirror_mode": {
    "name": "ipython",
    "version": 3
   },
   "file_extension": ".py",
   "mimetype": "text/x-python",
   "name": "python",
   "nbconvert_exporter": "python",
   "pygments_lexer": "ipython3",
   "version": "3.11.5"
  }
 },
 "nbformat": 4,
 "nbformat_minor": 5
}
